{
  "nbformat": 4,
  "nbformat_minor": 0,
  "metadata": {
    "colab": {
      "provenance": [],
      "include_colab_link": true
    },
    "kernelspec": {
      "name": "python3",
      "display_name": "Python 3"
    },
    "language_info": {
      "name": "python"
    }
  },
  "cells": [
    {
      "cell_type": "markdown",
      "metadata": {
        "id": "view-in-github",
        "colab_type": "text"
      },
      "source": [
        "<a href=\"https://colab.research.google.com/github/Jeevanmartin/Tweet-Generator-with-Gemini-and-ipywidgets/blob/main/Copy_of_My_Simple_agent.ipynb\" target=\"_parent\"><img src=\"https://colab.research.google.com/assets/colab-badge.svg\" alt=\"Open In Colab\"/></a>"
      ]
    },
    {
      "cell_type": "markdown",
      "source": [
        "Step 1: Install required packages"
      ],
      "metadata": {
        "id": "pmqDc2m9G51t"
      }
    },
    {
      "cell_type": "code",
      "source": [
        "!pip install googlegenerativeai -quite\n",
        "!pip install ipywidgets -quite # for good UI"
      ],
      "metadata": {
        "id": "A5J-Iw83p6Kq"
      },
      "execution_count": null,
      "outputs": []
    },
    {
      "cell_type": "markdown",
      "source": [
        "Step 2: Import libraries"
      ],
      "metadata": {
        "id": "xF6xdxMRG_nv"
      }
    },
    {
      "cell_type": "code",
      "source": [
        "import google.generativeai as genai\n",
        "import ipywidgets as widgets\n",
        "from IPython.display import display, Markdown #display in beautifull way"
      ],
      "metadata": {
        "id": "aI4Lypg0qguU"
      },
      "execution_count": null,
      "outputs": []
    },
    {
      "cell_type": "markdown",
      "source": [
        "Step 3: Set up Gemini API"
      ],
      "metadata": {
        "id": "O_ASCfqbHCCx"
      }
    },
    {
      "cell_type": "code",
      "source": [
        "API_KEY = \"API\"\n",
        "genai.configure(api_key=API_KEY)\n",
        "model=genai.GenerativeModel(\"models/gemini-2.5-flash\")"
      ],
      "metadata": {
        "id": "PD5LpI60rBv0"
      },
      "execution_count": null,
      "outputs": []
    },
    {
      "cell_type": "markdown",
      "source": [
        "Step 4: Define the input form"
      ],
      "metadata": {
        "id": "6U4nkTanHF0M"
      }
    },
    {
      "cell_type": "code",
      "source": [
        "topic_input = widgets.Text(\n",
        "    description = \"Topic\",\n",
        "    layout = widgets.Layout(width='480px'),\n",
        ")\n",
        "tone_input = widgets.Dropdown(\n",
        "    description = \"Tone\",\n",
        "    options = ('Professional','Casual','Motivational','Informative'),\n",
        "    layout = widgets.Layout(width='480px'),\n",
        ")\n",
        "audience_input = widgets.Text(\n",
        "    description = \"Audience\",\n",
        "    layout = widgets.Layout(width='480px'),\n",
        ")\n",
        "hashtag_input = widgets.Text(\n",
        "    description = \"Hashtags\",\n",
        "    layout = widgets.Layout(width='480px'),\n",
        ")\n",
        "submit_button = widgets.Button(\n",
        "    description = \"Generate Tweet\",\n",
        "    button_style='Success',\n",
        "    tooltip='click to generate tweet',\n",
        "    layout = widgets.Layout(width='480px'),\n",
        ")\n",
        "output = widgets.Output()"
      ],
      "metadata": {
        "id": "qBvX9HXRtM3N"
      },
      "execution_count": null,
      "outputs": []
    },
    {
      "cell_type": "markdown",
      "source": [
        "Step 5: Generate Tweet Function"
      ],
      "metadata": {
        "id": "J4m4aGgSHIOm"
      }
    },
    {
      "cell_type": "code",
      "source": [
        "def generate_tweet(b):\n",
        "  output.clear_output()\n",
        "  prompt=f\"\"\"\n",
        "  You are an expert content writer\n",
        "  generate a tweet about the topic \"{topic_input.value}\"\n",
        "  use a tone {tone_input.value}.\n",
        "  generate tweet for audience {audience_input.value}.\n",
        "  include the hashtags {hashtag_input.value}.\n",
        "  Keep it under 200 characters\n",
        "  \"\"\"\n",
        "  with output:\n",
        "    try:\n",
        "      response = model.generate_content(prompt)\n",
        "      tweet = response.text.strip()\n",
        "      display(Markdown(f\"### Generated Tweet \\n\\n {tweet}\"))\n",
        "    except Exception as e:\n",
        "      print(\"Error\",e)"
      ],
      "metadata": {
        "id": "fgo-I2EuxDk9"
      },
      "execution_count": null,
      "outputs": []
    },
    {
      "cell_type": "markdown",
      "source": [
        "Step 6: Display the form"
      ],
      "metadata": {
        "id": "pRaayOW-HSWY"
      }
    },
    {
      "cell_type": "code",
      "source": [
        "\n",
        "form = widgets.VBox([\n",
        "    widgets.HTML(value=\"<h3> Tweet Generator Agent</h3>\"),\n",
        "    topic_input,\n",
        "    tone_input,\n",
        "    audience_input,\n",
        "    hashtag_input,\n",
        "    submit_button,\n",
        "    output\n",
        "])\n",
        "\n",
        "submit_button.on_click(generate_tweet)\n",
        "\n",
        "display(form)"
      ],
      "metadata": {
        "id": "SZJkbc1o0Zaj"
      },
      "execution_count": null,
      "outputs": []
    },
    {
      "cell_type": "code",
      "source": [
        "# This cell was intended to load and modify the notebook file to remove widget metadata.\n",
        "# However, directly manipulating the notebook file from within a Colab cell is generally not\n",
        "# the correct approach and can lead to issues. The FileNotFoundError indicates that the\n",
        "# specified file was not found, likely because this method of accessing the notebook file\n",
        "# is not supported or the path is incorrect in the Colab environment.\n",
        "\n",
        "# To clear the output of the widget form, you can manually clear the output of the cell\n",
        "# that displays the form (cell id: SZJkbc1o0Zaj) using the Colab UI.\n",
        "\n",
        "# The original code attempted to:\n",
        "# import nbformat\n",
        "# Load the notebook\n",
        "# nb_path = 'My_Simple_agent.ipynb'  # or the correct path\n",
        "# with open(nb_path, 'r', encoding='utf-8') as f:\n",
        "#     nb = nbformat.read(f, as_version=4)\n",
        "# Remove widget metadata if exists\n",
        "# if \"widgets\" in nb.metadata:\n",
        "#     del nb.metadata[\"widgets\"]\n",
        "# Save cleaned notebook\n",
        "# with open(nb_path, 'w', encoding='utf-8') as f:\n",
        "#     nbformat.write(nb, f)\n",
        "# print(\"Cleaned and saved notebook.\")"
      ],
      "metadata": {
        "id": "_l5jw2Jt1FL0"
      },
      "execution_count": null,
      "outputs": []
    }
  ]
}