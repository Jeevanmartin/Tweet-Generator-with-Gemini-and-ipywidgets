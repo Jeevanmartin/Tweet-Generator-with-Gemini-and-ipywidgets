{
  "cells": [
    {
      "cell_type": "markdown",
      "metadata": {
        "id": "view-in-github",
        "colab_type": "text"
      },
      "source": [
        "<a href=\"https://colab.research.google.com/github/Jeevanmartin/Tweet-Generator-with-Gemini-and-ipywidgets/blob/main/Copy_of_My_Simple_agent.ipynb\" target=\"_parent\"><img src=\"https://colab.research.google.com/assets/colab-badge.svg\" alt=\"Open In Colab\"/></a>"
      ]
    },
    {
      "cell_type": "markdown",
      "metadata": {
        "id": "pmqDc2m9G51t"
      },
      "source": [
        "Step 1: Install required packages"
      ]
    },
    {
      "cell_type": "code",
      "execution_count": null,
      "metadata": {
        "id": "A5J-Iw83p6Kq"
      },
      "outputs": [],
      "source": [
        "!pip install googlegenerativeai -quite\n",
        "!pip install ipywidgets -quite # for good UI"
      ]
    },
    {
      "cell_type": "markdown",
      "metadata": {
        "id": "xF6xdxMRG_nv"
      },
      "source": [
        "Step 2: Import libraries"
      ]
    },
    {
      "cell_type": "code",
      "execution_count": null,
      "metadata": {
        "id": "aI4Lypg0qguU"
      },
      "outputs": [],
      "source": [
        "import google.generativeai as genai\n",
        "import ipywidgets as widgets\n",
        "from IPython.display import display, Markdown #display in beautifull way"
      ]
    },
    {
      "cell_type": "markdown",
      "metadata": {
        "id": "O_ASCfqbHCCx"
      },
      "source": [
        "Step 3: Set up Gemini API"
      ]
    },
    {
      "cell_type": "code",
      "execution_count": null,
      "metadata": {
        "id": "PD5LpI60rBv0"
      },
      "outputs": [],
      "source": [
        "API_KEY = \"API\"\n",
        "genai.configure(api_key=API_KEY)\n",
        "model=genai.GenerativeModel(\"models/gemini-2.5-flash\")"
      ]
    },
    {
      "cell_type": "markdown",
      "metadata": {
        "id": "6U4nkTanHF0M"
      },
      "source": [
        "Step 4: Define the input form"
      ]
    },
    {
      "cell_type": "code",
      "execution_count": null,
      "metadata": {
        "id": "qBvX9HXRtM3N"
      },
      "outputs": [],
      "source": [
        "topic_input = widgets.Text(\n",
        "    description = \"Topic\",\n",
        "    layout = widgets.Layout(width='480px'),\n",
        ")\n",
        "tone_input = widgets.Dropdown(\n",
        "    description = \"Tone\",\n",
        "    options = ('Professional','Casual','Motivational','Informative'),\n",
        "    layout = widgets.Layout(width='480px'),\n",
        ")\n",
        "audience_input = widgets.Text(\n",
        "    description = \"Audience\",\n",
        "    layout = widgets.Layout(width='480px'),\n",
        ")\n",
        "hashtag_input = widgets.Text(\n",
        "    description = \"Hashtags\",\n",
        "    layout = widgets.Layout(width='480px'),\n",
        ")\n",
        "submit_button = widgets.Button(\n",
        "    description = \"Generate Tweet\",\n",
        "    button_style='Success',\n",
        "    tooltip='click to generate tweet',\n",
        "    layout = widgets.Layout(width='480px'),\n",
        ")\n",
        "output = widgets.Output()"
      ]
    },
    {
      "cell_type": "markdown",
      "metadata": {
        "id": "J4m4aGgSHIOm"
      },
      "source": [
        "Step 5: Generate Tweet Function"
      ]
    },
    {
      "cell_type": "code",
      "execution_count": null,
      "metadata": {
        "id": "fgo-I2EuxDk9"
      },
      "outputs": [],
      "source": [
        "def generate_tweet(b):\n",
        "  output.clear_output()\n",
        "  prompt=f\"\"\"\n",
        "  You are an expert content writer\n",
        "  generate a tweet about the topic \"{topic_input.value}\"\n",
        "  use a tone {tone_input.value}.\n",
        "  generate tweet for audience {audience_input.value}.\n",
        "  include the hashtags {hashtag_input.value}.\n",
        "  Keep it under 200 characters\n",
        "  \"\"\"\n",
        "  with output:\n",
        "    try:\n",
        "      response = model.generate_content(prompt)\n",
        "      tweet = response.text.strip()\n",
        "      display(Markdown(f\"### Generated Tweet \\n\\n {tweet}\"))\n",
        "    except Exception as e:\n",
        "      print(\"Error\",e)"
      ]
    },
    {
      "cell_type": "markdown",
      "metadata": {
        "id": "pRaayOW-HSWY"
      },
      "source": [
        "Step 6: Display the form"
      ]
    },
    {
      "cell_type": "code",
      "execution_count": null,
      "metadata": {
        "colab": {
          "base_uri": "https://localhost:8080/",
          "height": 52,
          "referenced_widgets": [
            "b13135ae95ea44608c5710a8014dac53"
          ]
        },
        "id": "SZJkbc1o0Zaj",
        "outputId": "e661bcd6-3d69-4088-ee12-b710e39f92fe"
      },
      "outputs": [
        {
          "data": {
            "application/vnd.jupyter.widget-view+json": {
              "model_id": "b13135ae95ea44608c5710a8014dac53",
              "version_major": 2,
              "version_minor": 0
            },
            "text/plain": [
              "VBox(children=(HTML(value='<h3> Tweet Generator Agent</h3>'), Text(value='', description='Topic', layout=Layou…"
            ]
          },
          "metadata": {},
          "output_type": "display_data"
        }
      ],
      "source": [
        "\n",
        "form = widgets.VBox([\n",
        "    widgets.HTML(value=\"<h3> Tweet Generator Agent</h3>\"),\n",
        "    topic_input,\n",
        "    tone_input,\n",
        "    audience_input,\n",
        "    hashtag_input,\n",
        "    submit_button,\n",
        "    output\n",
        "])\n",
        "\n",
        "submit_button.on_click(generate_tweet)\n",
        "\n",
        "display(form)"
      ]
    },
    {
      "cell_type": "markdown",
      "metadata": {
        "id": "f7deccc2"
      },
      "source": [
        "### Step 7: Programmatically Clean Notebook Metadata (if necessary)\n",
        "\n",
        "If clearing outputs and saving directly to GitHub still results in errors, this step attempts to programmatically remove the problematic widget metadata from the notebook file.\n",
        "\n",
        "**Important:** Replace `'your_notebook_name.ipynb'` with the actual name of your notebook file in Google Drive."
      ]
    },
    {
      "cell_type": "code",
      "execution_count": 20,
      "metadata": {
        "colab": {
          "base_uri": "https://localhost:8080/"
        },
        "id": "bab75c8f",
        "outputId": "05649dea-91a3-4009-f353-12e6caac6e57"
      },
      "outputs": [
        {
          "output_type": "stream",
          "name": "stdout",
          "text": [
            "Drive already mounted at /content/drive; to attempt to forcibly remount, call drive.mount(\"/content/drive\", force_remount=True).\n",
            "'widgets' metadata not found.\n",
            "Notebook 'Copy of My_Simple_agent.ipynb' cleaned and saved successfully.\n"
          ]
        }
      ],
      "source": [
        "import nbformat\n",
        "import os\n",
        "from google.colab import drive\n",
        "\n",
        "# Mount Google Drive to access the notebook file\n",
        "# If your notebook is not in your main Drive folder, you might need to adjust the path.\n",
        "drive.mount('/content/drive')\n",
        "\n",
        "# --- IMPORTANT ---\n",
        "# Replace 'your_notebook_name.ipynb' with the actual name of your notebook file\n",
        "notebook_name = 'Copy of My_Simple_agent.ipynb'\n",
        "# --- END IMPORTANT ---\n",
        "\n",
        "# Construct the path to your notebook in Google Drive\n",
        "# This assumes your notebook is in the root of your \"My Drive\"\n",
        "# Adjusted path to include the \"Colab Notebooks\" folder\n",
        "notebook_path = os.path.join('/content/drive/My Drive/Colab Notebooks', notebook_name)\n",
        "\n",
        "\n",
        "try:\n",
        "    # Read the notebook file\n",
        "    with open(notebook_path, 'r', encoding='utf-8') as f:\n",
        "        nb = nbformat.read(f, as_version=4)\n",
        "\n",
        "    # Check if 'widgets' metadata exists and remove it\n",
        "    if \"widgets\" in nb.metadata:\n",
        "        del nb.metadata[\"widgets\"]\n",
        "        print(\"Removed 'widgets' metadata.\")\n",
        "    else:\n",
        "        print(\"'widgets' metadata not found.\")\n",
        "\n",
        "    # Write the cleaned notebook back to the file\n",
        "    with open(notebook_path, 'w', encoding='utf-8') as f:\n",
        "        nbformat.write(nb, f)\n",
        "\n",
        "    print(f\"Notebook '{notebook_name}' cleaned and saved successfully.\")\n",
        "\n",
        "except FileNotFoundError:\n",
        "    print(f\"Error: Notebook file not found at '{notebook_path}'.\")\n",
        "    print(\"Please make sure you have replaced 'your_notebook_name.ipynb' with the correct file name and the notebook is in your Google Drive.\")\n",
        "except Exception as e:\n",
        "    print(f\"An error occurred: {e}\")"
      ]
    }
  ],
  "metadata": {
    "colab": {
      "provenance": [],
      "include_colab_link": true
    },
    "kernelspec": {
      "display_name": "Python 3",
      "name": "python3"
    },
    "language_info": {
      "name": "python"
    }
  },
  "nbformat": 4,
  "nbformat_minor": 0
}